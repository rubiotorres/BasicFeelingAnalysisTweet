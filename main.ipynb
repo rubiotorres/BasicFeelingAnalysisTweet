{
 "cells": [
  {
   "cell_type": "markdown",
   "metadata": {},
   "source": [
    "# FeelingAnalysisTweet\n",
    "\n",
    "## Work for information retrieval discipline\n",
    "\n",
    "-> Implement (in python) a collector that requests and collects data through an API such as: Twitter API, Github, Linkedin, Facebook. And it extracts some information, presenting a report of conclusions about the extracted data.\n",
    "\n",
    "-> The collection / extraction must have an objective and the same must be clear. The objective should not be just to collect, but to present some analysis with some justification for this and the relevance of that analysis.\n",
    "\n",
    "-> Perform unit tests for each function implemented\n",
    "\n",
    "-> Generating a Jupyter report there will be:\n",
    "\n",
    "    - Contextualization of the definition of the collection objective\n",
    "\n",
    "    - Justification and relevance of this collection (why is it important?)\n",
    "\n",
    "    - Presentation of the analysis and its conclusions. You must use APIs to display graphics such as: Pandas, Seaborn, matplotlib.\n",
    "\n",
    "The implementation code must be readable:\n",
    "\n",
    "-> Name of variables / functions that make their function clear in code\n",
    "\n",
    "-> Well commented code\n",
    "\n",
    "-> Code well divided into functions / classes"
   ]
  },
  {
   "cell_type": "markdown",
   "metadata": {},
   "source": [
    "## Introduction\n",
    "\n",
    "\"In the midst of the Covid-19 pandemic, hundreds of millions of people worldwide and the economies of more than 190 countries are trying to adapt to the current reality and curb the threats of recession. The guidelines of the World Health Organization (WHO ) on the subject are objective: to contain the spread of the disease it is necessary to promote social isolation and reinforce hygiene habits. \" - UFJF\n",
    "\n",
    "The chaotic political and social scenario in Brazil and in the world, calls for a general analysis of society that is increasingly adept at social networks. In this way, analyzing this environment brings us a vision of what society is thinking about a certain subject.\n",
    "This work aims to research on the current situation of the President of Brazil, Jair Bolsonaro, in this way a sentiment analyzer was created that receives data from twiiter and makes its analysis verifying the amount, in that time interval, which is the position of the twiiter in relation to president."
   ]
  },
  {
   "cell_type": "markdown",
   "metadata": {},
   "source": [
    "## Abstract\n",
    "\n",
    "At this moment, defending science and knowledge as strategic tools to face this pandemic and also as a condition for the country's development is part of the defense of life and of our public teaching and research institutions. Using society analyzes makes us prepared and better understand how the population is reacting, so this work aims to analyze society using the social network twitter in the last 30 days to know the position of people who use the hashtag bolsonaro."
   ]
  },
  {
   "cell_type": "markdown",
   "metadata": {},
   "source": [
    "### Technologies\n",
    "In this first stage of the project, the name, messages and the device being sent by twiiter were collected. To analyze the messages, a dataframe system was used that was manipulated by api pandas, the analysis of feelings was made by the api TextBlob that makes the analysis for texts in English, in this way to translate the texts in Portuguese, the api googletrans was used and in order to have no unwanted characters in the text, the unidecode."
   ]
  },
  {
   "cell_type": "code",
   "execution_count": null,
   "metadata": {},
   "outputs": [
    {
     "name": "stdout",
     "output_type": "stream",
     "text": [
      "\n",
      "Looking for 10000 twitters about the word #bolsonaro, 60 days ago, wait ...\n",
      "\n",
      "Analyzing this nation's feelings ...\n"
     ]
    }
   ],
   "source": [
    "from src.collectorTweet import *\n",
    "import pandas as pd\n",
    "import numpy as np\n",
    "import matplotlib.pyplot as plt\n",
    "\n",
    "newtt = tweet(\"#bolsonaro\",10000,\"pt\")\n",
    "newtt.feelingAnalizer(60)"
   ]
  },
  {
   "cell_type": "markdown",
   "metadata": {},
   "source": [
    "## Results\n",
    "The results were not as assertive as expected, on average, 60% of the twitters managed to be analyzed, and of these, a smaller portion still had high accuracy, this is mainly due to the translation that reduced the reliability of the analysis.\n",
    "In the future, we intend to use other methods of analysis such as wastson, or even a method specifically trained specifically for the Brazilian language, in addition, using other aspects such as emojis, other networks and covering other words would be efficient to improve the result."
   ]
  }
 ],
 "metadata": {
  "kernelspec": {
   "display_name": "Python 3",
   "language": "python",
   "name": "python3"
  },
  "language_info": {
   "codemirror_mode": {
    "name": "ipython",
    "version": 3
   },
   "file_extension": ".py",
   "mimetype": "text/x-python",
   "name": "python",
   "nbconvert_exporter": "python",
   "pygments_lexer": "ipython3",
   "version": "3.6.9"
  }
 },
 "nbformat": 4,
 "nbformat_minor": 4
}
